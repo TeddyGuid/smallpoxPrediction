{
 "cells": [
  {
   "cell_type": "markdown",
   "id": "e9eaf990",
   "metadata": {},
   "source": [
    "# 1- Importation des librairies"
   ]
  },
  {
   "cell_type": "code",
   "execution_count": 122,
   "id": "fcdbed4e",
   "metadata": {},
   "outputs": [],
   "source": [
    "import numpy,pandas\n",
    "import matplotlib.pyplot as plt\n",
    "from sklearn.model_selection import train_test_split\n",
    "from sklearn.preprocessing import StandardScaler \n",
    "from sklearn.metrics import accuracy_score\n",
    "\n",
    "from sklearn.metrics import classification_report, confusion_matrix\n",
    "from copy import copy"
   ]
  },
  {
   "cell_type": "markdown",
   "id": "e8086c21",
   "metadata": {},
   "source": [
    "# 2- Chargement des dataset train"
   ]
  },
  {
   "cell_type": "code",
   "execution_count": 123,
   "id": "efc9e30e",
   "metadata": {},
   "outputs": [
    {
     "data": {
      "text/html": [
       "<div>\n",
       "<style scoped>\n",
       "    .dataframe tbody tr th:only-of-type {\n",
       "        vertical-align: middle;\n",
       "    }\n",
       "\n",
       "    .dataframe tbody tr th {\n",
       "        vertical-align: top;\n",
       "    }\n",
       "\n",
       "    .dataframe thead th {\n",
       "        text-align: right;\n",
       "    }\n",
       "</style>\n",
       "<table border=\"1\" class=\"dataframe\">\n",
       "  <thead>\n",
       "    <tr style=\"text-align: right;\">\n",
       "      <th></th>\n",
       "      <th>Patient_ID</th>\n",
       "      <th>symptome 1</th>\n",
       "      <th>symptome 2</th>\n",
       "      <th>symptome 3</th>\n",
       "      <th>symptome 4</th>\n",
       "      <th>symptome 5</th>\n",
       "      <th>symptome 6</th>\n",
       "      <th>symptome 7</th>\n",
       "      <th>symptome 8</th>\n",
       "      <th>symptome 9</th>\n",
       "      <th>Profession</th>\n",
       "      <th>Martial_Status</th>\n",
       "      <th>Sex</th>\n",
       "      <th>Age</th>\n",
       "      <th>Country</th>\n",
       "      <th>Smallpox</th>\n",
       "    </tr>\n",
       "  </thead>\n",
       "  <tbody>\n",
       "    <tr>\n",
       "      <th>0</th>\n",
       "      <td>P22833</td>\n",
       "      <td>Swollen Lymph Nodes</td>\n",
       "      <td>True</td>\n",
       "      <td>True</td>\n",
       "      <td>True</td>\n",
       "      <td>True</td>\n",
       "      <td>False</td>\n",
       "      <td>True</td>\n",
       "      <td>False</td>\n",
       "      <td>False</td>\n",
       "      <td>Facilities manager</td>\n",
       "      <td>Single</td>\n",
       "      <td>M</td>\n",
       "      <td>62</td>\n",
       "      <td>Mauritania</td>\n",
       "      <td>1</td>\n",
       "    </tr>\n",
       "    <tr>\n",
       "      <th>1</th>\n",
       "      <td>P7988</td>\n",
       "      <td>Swollen Lymph Nodes</td>\n",
       "      <td>True</td>\n",
       "      <td>False</td>\n",
       "      <td>False</td>\n",
       "      <td>False</td>\n",
       "      <td>True</td>\n",
       "      <td>True</td>\n",
       "      <td>True</td>\n",
       "      <td>True</td>\n",
       "      <td>Chartered loss adjuster</td>\n",
       "      <td>Widowed</td>\n",
       "      <td>M</td>\n",
       "      <td>62</td>\n",
       "      <td>Wallis and Futuna</td>\n",
       "      <td>1</td>\n",
       "    </tr>\n",
       "    <tr>\n",
       "      <th>2</th>\n",
       "      <td>P12774</td>\n",
       "      <td>Swollen Lymph Nodes</td>\n",
       "      <td>True</td>\n",
       "      <td>False</td>\n",
       "      <td>False</td>\n",
       "      <td>True</td>\n",
       "      <td>True</td>\n",
       "      <td>True</td>\n",
       "      <td>False</td>\n",
       "      <td>False</td>\n",
       "      <td>Chief Financial Officer</td>\n",
       "      <td>Single</td>\n",
       "      <td>F</td>\n",
       "      <td>33</td>\n",
       "      <td>Brunei Darussalam</td>\n",
       "      <td>0</td>\n",
       "    </tr>\n",
       "    <tr>\n",
       "      <th>3</th>\n",
       "      <td>P972</td>\n",
       "      <td>Swollen Lymph Nodes</td>\n",
       "      <td>True</td>\n",
       "      <td>True</td>\n",
       "      <td>True</td>\n",
       "      <td>True</td>\n",
       "      <td>False</td>\n",
       "      <td>False</td>\n",
       "      <td>False</td>\n",
       "      <td>True</td>\n",
       "      <td>Database administrator</td>\n",
       "      <td>Divorced</td>\n",
       "      <td>F</td>\n",
       "      <td>46</td>\n",
       "      <td>Turkey</td>\n",
       "      <td>1</td>\n",
       "    </tr>\n",
       "    <tr>\n",
       "      <th>4</th>\n",
       "      <td>P23058</td>\n",
       "      <td>Swollen Lymph Nodes</td>\n",
       "      <td>True</td>\n",
       "      <td>True</td>\n",
       "      <td>True</td>\n",
       "      <td>False</td>\n",
       "      <td>True</td>\n",
       "      <td>False</td>\n",
       "      <td>True</td>\n",
       "      <td>True</td>\n",
       "      <td>Theatre director</td>\n",
       "      <td>Divorced</td>\n",
       "      <td>M</td>\n",
       "      <td>19</td>\n",
       "      <td>Namibia</td>\n",
       "      <td>1</td>\n",
       "    </tr>\n",
       "    <tr>\n",
       "      <th>...</th>\n",
       "      <td>...</td>\n",
       "      <td>...</td>\n",
       "      <td>...</td>\n",
       "      <td>...</td>\n",
       "      <td>...</td>\n",
       "      <td>...</td>\n",
       "      <td>...</td>\n",
       "      <td>...</td>\n",
       "      <td>...</td>\n",
       "      <td>...</td>\n",
       "      <td>...</td>\n",
       "      <td>...</td>\n",
       "      <td>...</td>\n",
       "      <td>...</td>\n",
       "      <td>...</td>\n",
       "      <td>...</td>\n",
       "    </tr>\n",
       "    <tr>\n",
       "      <th>17495</th>\n",
       "      <td>P10559</td>\n",
       "      <td>Muscle Aches and Pain</td>\n",
       "      <td>False</td>\n",
       "      <td>True</td>\n",
       "      <td>True</td>\n",
       "      <td>True</td>\n",
       "      <td>False</td>\n",
       "      <td>True</td>\n",
       "      <td>False</td>\n",
       "      <td>False</td>\n",
       "      <td>Mechanical engineer</td>\n",
       "      <td>Single</td>\n",
       "      <td>F</td>\n",
       "      <td>28</td>\n",
       "      <td>Saudi Arabia</td>\n",
       "      <td>1</td>\n",
       "    </tr>\n",
       "    <tr>\n",
       "      <th>17496</th>\n",
       "      <td>P15697</td>\n",
       "      <td>None</td>\n",
       "      <td>False</td>\n",
       "      <td>True</td>\n",
       "      <td>True</td>\n",
       "      <td>False</td>\n",
       "      <td>True</td>\n",
       "      <td>False</td>\n",
       "      <td>True</td>\n",
       "      <td>True</td>\n",
       "      <td>Plant breeder/geneticist</td>\n",
       "      <td>Widowed</td>\n",
       "      <td>F</td>\n",
       "      <td>51</td>\n",
       "      <td>Slovakia (Slovak Republic)</td>\n",
       "      <td>0</td>\n",
       "    </tr>\n",
       "    <tr>\n",
       "      <th>17497</th>\n",
       "      <td>P1107</td>\n",
       "      <td>Muscle Aches and Pain</td>\n",
       "      <td>False</td>\n",
       "      <td>True</td>\n",
       "      <td>True</td>\n",
       "      <td>True</td>\n",
       "      <td>True</td>\n",
       "      <td>False</td>\n",
       "      <td>False</td>\n",
       "      <td>True</td>\n",
       "      <td>Hydrogeologist</td>\n",
       "      <td>Divorced</td>\n",
       "      <td>M</td>\n",
       "      <td>58</td>\n",
       "      <td>Sri Lanka</td>\n",
       "      <td>1</td>\n",
       "    </tr>\n",
       "    <tr>\n",
       "      <th>17498</th>\n",
       "      <td>P13477</td>\n",
       "      <td>Swollen Lymph Nodes</td>\n",
       "      <td>False</td>\n",
       "      <td>True</td>\n",
       "      <td>True</td>\n",
       "      <td>True</td>\n",
       "      <td>False</td>\n",
       "      <td>False</td>\n",
       "      <td>False</td>\n",
       "      <td>False</td>\n",
       "      <td>Network engineer</td>\n",
       "      <td>Divorced</td>\n",
       "      <td>F</td>\n",
       "      <td>42</td>\n",
       "      <td>Seychelles</td>\n",
       "      <td>1</td>\n",
       "    </tr>\n",
       "    <tr>\n",
       "      <th>17499</th>\n",
       "      <td>P24714</td>\n",
       "      <td>None</td>\n",
       "      <td>True</td>\n",
       "      <td>False</td>\n",
       "      <td>False</td>\n",
       "      <td>True</td>\n",
       "      <td>False</td>\n",
       "      <td>True</td>\n",
       "      <td>False</td>\n",
       "      <td>True</td>\n",
       "      <td>Homeopath</td>\n",
       "      <td>Divorced</td>\n",
       "      <td>F</td>\n",
       "      <td>35</td>\n",
       "      <td>Cote d'Ivoire</td>\n",
       "      <td>1</td>\n",
       "    </tr>\n",
       "  </tbody>\n",
       "</table>\n",
       "<p>17500 rows × 16 columns</p>\n",
       "</div>"
      ],
      "text/plain": [
       "      Patient_ID             symptome 1  symptome 2  symptome 3  symptome 4  \\\n",
       "0         P22833    Swollen Lymph Nodes        True        True        True   \n",
       "1          P7988    Swollen Lymph Nodes        True       False       False   \n",
       "2         P12774    Swollen Lymph Nodes        True       False       False   \n",
       "3           P972    Swollen Lymph Nodes        True        True        True   \n",
       "4         P23058    Swollen Lymph Nodes        True        True        True   \n",
       "...          ...                    ...         ...         ...         ...   \n",
       "17495     P10559  Muscle Aches and Pain       False        True        True   \n",
       "17496     P15697                   None       False        True        True   \n",
       "17497      P1107  Muscle Aches and Pain       False        True        True   \n",
       "17498     P13477    Swollen Lymph Nodes       False        True        True   \n",
       "17499     P24714                   None        True       False       False   \n",
       "\n",
       "       symptome 5  symptome 6  symptome 7  symptome 8  symptome 9  \\\n",
       "0            True       False        True       False       False   \n",
       "1           False        True        True        True        True   \n",
       "2            True        True        True       False       False   \n",
       "3            True       False       False       False        True   \n",
       "4           False        True       False        True        True   \n",
       "...           ...         ...         ...         ...         ...   \n",
       "17495        True       False        True       False       False   \n",
       "17496       False        True       False        True        True   \n",
       "17497        True        True       False       False        True   \n",
       "17498        True       False       False       False       False   \n",
       "17499        True       False        True       False        True   \n",
       "\n",
       "                     Profession Martial_Status Sex  Age  \\\n",
       "0            Facilities manager         Single   M   62   \n",
       "1       Chartered loss adjuster        Widowed   M   62   \n",
       "2       Chief Financial Officer         Single   F   33   \n",
       "3        Database administrator       Divorced   F   46   \n",
       "4              Theatre director       Divorced   M   19   \n",
       "...                         ...            ...  ..  ...   \n",
       "17495       Mechanical engineer         Single   F   28   \n",
       "17496  Plant breeder/geneticist        Widowed   F   51   \n",
       "17497            Hydrogeologist       Divorced   M   58   \n",
       "17498          Network engineer       Divorced   F   42   \n",
       "17499                 Homeopath       Divorced   F   35   \n",
       "\n",
       "                          Country  Smallpox  \n",
       "0                      Mauritania         1  \n",
       "1               Wallis and Futuna         1  \n",
       "2               Brunei Darussalam         0  \n",
       "3                          Turkey         1  \n",
       "4                         Namibia         1  \n",
       "...                           ...       ...  \n",
       "17495                Saudi Arabia         1  \n",
       "17496  Slovakia (Slovak Republic)         0  \n",
       "17497                   Sri Lanka         1  \n",
       "17498                  Seychelles         1  \n",
       "17499               Cote d'Ivoire         1  \n",
       "\n",
       "[17500 rows x 16 columns]"
      ]
     },
     "execution_count": 123,
     "metadata": {},
     "output_type": "execute_result"
    }
   ],
   "source": [
    "data_train=pandas.read_csv(\"DataVerse - Data Challenge 2022-2023 - Train.csv\")\n",
    "data_train"
   ]
  },
  {
   "cell_type": "code",
   "execution_count": 124,
   "id": "4e2e2128",
   "metadata": {},
   "outputs": [
    {
     "data": {
      "text/html": [
       "<div>\n",
       "<style scoped>\n",
       "    .dataframe tbody tr th:only-of-type {\n",
       "        vertical-align: middle;\n",
       "    }\n",
       "\n",
       "    .dataframe tbody tr th {\n",
       "        vertical-align: top;\n",
       "    }\n",
       "\n",
       "    .dataframe thead th {\n",
       "        text-align: right;\n",
       "    }\n",
       "</style>\n",
       "<table border=\"1\" class=\"dataframe\">\n",
       "  <thead>\n",
       "    <tr style=\"text-align: right;\">\n",
       "      <th></th>\n",
       "      <th>Patient_ID</th>\n",
       "      <th>symptome 1</th>\n",
       "      <th>symptome 2</th>\n",
       "      <th>symptome 3</th>\n",
       "      <th>symptome 4</th>\n",
       "      <th>symptome 5</th>\n",
       "      <th>symptome 6</th>\n",
       "      <th>symptome 7</th>\n",
       "      <th>symptome 8</th>\n",
       "      <th>symptome 9</th>\n",
       "      <th>Profession</th>\n",
       "      <th>Martial_Status</th>\n",
       "      <th>Sex</th>\n",
       "      <th>Age</th>\n",
       "      <th>Country</th>\n",
       "      <th>trustii_id</th>\n",
       "    </tr>\n",
       "  </thead>\n",
       "  <tbody>\n",
       "    <tr>\n",
       "      <th>0</th>\n",
       "      <td>P7260</td>\n",
       "      <td>Swollen Lymph Nodes</td>\n",
       "      <td>False</td>\n",
       "      <td>False</td>\n",
       "      <td>True</td>\n",
       "      <td>False</td>\n",
       "      <td>True</td>\n",
       "      <td>False</td>\n",
       "      <td>False</td>\n",
       "      <td>False</td>\n",
       "      <td>Financial controller</td>\n",
       "      <td>Widowed</td>\n",
       "      <td>M</td>\n",
       "      <td>35</td>\n",
       "      <td>Mozambique</td>\n",
       "      <td>1</td>\n",
       "    </tr>\n",
       "    <tr>\n",
       "      <th>1</th>\n",
       "      <td>P7709</td>\n",
       "      <td>Swollen Lymph Nodes</td>\n",
       "      <td>True</td>\n",
       "      <td>True</td>\n",
       "      <td>True</td>\n",
       "      <td>False</td>\n",
       "      <td>True</td>\n",
       "      <td>False</td>\n",
       "      <td>False</td>\n",
       "      <td>True</td>\n",
       "      <td>Financial adviser</td>\n",
       "      <td>Divorced</td>\n",
       "      <td>F</td>\n",
       "      <td>50</td>\n",
       "      <td>Cayman Islands</td>\n",
       "      <td>2</td>\n",
       "    </tr>\n",
       "    <tr>\n",
       "      <th>2</th>\n",
       "      <td>P21132</td>\n",
       "      <td>Fever</td>\n",
       "      <td>True</td>\n",
       "      <td>False</td>\n",
       "      <td>False</td>\n",
       "      <td>True</td>\n",
       "      <td>False</td>\n",
       "      <td>True</td>\n",
       "      <td>True</td>\n",
       "      <td>False</td>\n",
       "      <td>Broadcast presenter</td>\n",
       "      <td>Single</td>\n",
       "      <td>F</td>\n",
       "      <td>33</td>\n",
       "      <td>Saint Kitts and Nevis</td>\n",
       "      <td>3</td>\n",
       "    </tr>\n",
       "    <tr>\n",
       "      <th>3</th>\n",
       "      <td>P5800</td>\n",
       "      <td>None</td>\n",
       "      <td>True</td>\n",
       "      <td>False</td>\n",
       "      <td>False</td>\n",
       "      <td>False</td>\n",
       "      <td>False</td>\n",
       "      <td>False</td>\n",
       "      <td>True</td>\n",
       "      <td>True</td>\n",
       "      <td>Armed forces operational officer</td>\n",
       "      <td>Widowed</td>\n",
       "      <td>M</td>\n",
       "      <td>49</td>\n",
       "      <td>Marshall Islands</td>\n",
       "      <td>4</td>\n",
       "    </tr>\n",
       "    <tr>\n",
       "      <th>4</th>\n",
       "      <td>P4073</td>\n",
       "      <td>Muscle Aches and Pain</td>\n",
       "      <td>True</td>\n",
       "      <td>True</td>\n",
       "      <td>True</td>\n",
       "      <td>False</td>\n",
       "      <td>True</td>\n",
       "      <td>False</td>\n",
       "      <td>False</td>\n",
       "      <td>False</td>\n",
       "      <td>Public relations account executive</td>\n",
       "      <td>Single</td>\n",
       "      <td>M</td>\n",
       "      <td>50</td>\n",
       "      <td>Brunei Darussalam</td>\n",
       "      <td>5</td>\n",
       "    </tr>\n",
       "    <tr>\n",
       "      <th>...</th>\n",
       "      <td>...</td>\n",
       "      <td>...</td>\n",
       "      <td>...</td>\n",
       "      <td>...</td>\n",
       "      <td>...</td>\n",
       "      <td>...</td>\n",
       "      <td>...</td>\n",
       "      <td>...</td>\n",
       "      <td>...</td>\n",
       "      <td>...</td>\n",
       "      <td>...</td>\n",
       "      <td>...</td>\n",
       "      <td>...</td>\n",
       "      <td>...</td>\n",
       "      <td>...</td>\n",
       "      <td>...</td>\n",
       "    </tr>\n",
       "    <tr>\n",
       "      <th>7495</th>\n",
       "      <td>P24469</td>\n",
       "      <td>Swollen Lymph Nodes</td>\n",
       "      <td>False</td>\n",
       "      <td>False</td>\n",
       "      <td>False</td>\n",
       "      <td>True</td>\n",
       "      <td>False</td>\n",
       "      <td>False</td>\n",
       "      <td>True</td>\n",
       "      <td>False</td>\n",
       "      <td>Administrator</td>\n",
       "      <td>Divorced</td>\n",
       "      <td>F</td>\n",
       "      <td>43</td>\n",
       "      <td>Tanzania</td>\n",
       "      <td>7496</td>\n",
       "    </tr>\n",
       "    <tr>\n",
       "      <th>7496</th>\n",
       "      <td>P2380</td>\n",
       "      <td>Muscle Aches and Pain</td>\n",
       "      <td>True</td>\n",
       "      <td>False</td>\n",
       "      <td>False</td>\n",
       "      <td>True</td>\n",
       "      <td>True</td>\n",
       "      <td>False</td>\n",
       "      <td>True</td>\n",
       "      <td>True</td>\n",
       "      <td>Retail buyer</td>\n",
       "      <td>Divorced</td>\n",
       "      <td>M</td>\n",
       "      <td>36</td>\n",
       "      <td>San Marino</td>\n",
       "      <td>7497</td>\n",
       "    </tr>\n",
       "    <tr>\n",
       "      <th>7497</th>\n",
       "      <td>P14181</td>\n",
       "      <td>None</td>\n",
       "      <td>True</td>\n",
       "      <td>True</td>\n",
       "      <td>False</td>\n",
       "      <td>True</td>\n",
       "      <td>True</td>\n",
       "      <td>False</td>\n",
       "      <td>True</td>\n",
       "      <td>False</td>\n",
       "      <td>Illustrator</td>\n",
       "      <td>Single</td>\n",
       "      <td>F</td>\n",
       "      <td>54</td>\n",
       "      <td>Russian Federation</td>\n",
       "      <td>7498</td>\n",
       "    </tr>\n",
       "    <tr>\n",
       "      <th>7498</th>\n",
       "      <td>P3919</td>\n",
       "      <td>Swollen Lymph Nodes</td>\n",
       "      <td>False</td>\n",
       "      <td>False</td>\n",
       "      <td>False</td>\n",
       "      <td>True</td>\n",
       "      <td>True</td>\n",
       "      <td>False</td>\n",
       "      <td>False</td>\n",
       "      <td>True</td>\n",
       "      <td>Nurse learning disability</td>\n",
       "      <td>Single</td>\n",
       "      <td>F</td>\n",
       "      <td>23</td>\n",
       "      <td>Jamaica</td>\n",
       "      <td>7499</td>\n",
       "    </tr>\n",
       "    <tr>\n",
       "      <th>7499</th>\n",
       "      <td>P24150</td>\n",
       "      <td>Swollen Lymph Nodes</td>\n",
       "      <td>False</td>\n",
       "      <td>False</td>\n",
       "      <td>True</td>\n",
       "      <td>True</td>\n",
       "      <td>True</td>\n",
       "      <td>False</td>\n",
       "      <td>False</td>\n",
       "      <td>False</td>\n",
       "      <td>Industrial buyer</td>\n",
       "      <td>Single</td>\n",
       "      <td>F</td>\n",
       "      <td>49</td>\n",
       "      <td>Guyana</td>\n",
       "      <td>7500</td>\n",
       "    </tr>\n",
       "  </tbody>\n",
       "</table>\n",
       "<p>7500 rows × 16 columns</p>\n",
       "</div>"
      ],
      "text/plain": [
       "     Patient_ID             symptome 1  symptome 2  symptome 3  symptome 4  \\\n",
       "0         P7260    Swollen Lymph Nodes       False       False        True   \n",
       "1         P7709    Swollen Lymph Nodes        True        True        True   \n",
       "2        P21132                  Fever        True       False       False   \n",
       "3         P5800                   None        True       False       False   \n",
       "4         P4073  Muscle Aches and Pain        True        True        True   \n",
       "...         ...                    ...         ...         ...         ...   \n",
       "7495     P24469    Swollen Lymph Nodes       False       False       False   \n",
       "7496      P2380  Muscle Aches and Pain        True       False       False   \n",
       "7497     P14181                   None        True        True       False   \n",
       "7498      P3919    Swollen Lymph Nodes       False       False       False   \n",
       "7499     P24150    Swollen Lymph Nodes       False       False        True   \n",
       "\n",
       "      symptome 5  symptome 6  symptome 7  symptome 8  symptome 9  \\\n",
       "0          False        True       False       False       False   \n",
       "1          False        True       False       False        True   \n",
       "2           True       False        True        True       False   \n",
       "3          False       False       False        True        True   \n",
       "4          False        True       False       False       False   \n",
       "...          ...         ...         ...         ...         ...   \n",
       "7495        True       False       False        True       False   \n",
       "7496        True        True       False        True        True   \n",
       "7497        True        True       False        True       False   \n",
       "7498        True        True       False       False        True   \n",
       "7499        True        True       False       False       False   \n",
       "\n",
       "                              Profession Martial_Status Sex  Age  \\\n",
       "0                   Financial controller        Widowed   M   35   \n",
       "1                      Financial adviser       Divorced   F   50   \n",
       "2                    Broadcast presenter         Single   F   33   \n",
       "3       Armed forces operational officer        Widowed   M   49   \n",
       "4     Public relations account executive         Single   M   50   \n",
       "...                                  ...            ...  ..  ...   \n",
       "7495                       Administrator       Divorced   F   43   \n",
       "7496                        Retail buyer       Divorced   M   36   \n",
       "7497                         Illustrator         Single   F   54   \n",
       "7498           Nurse learning disability         Single   F   23   \n",
       "7499                    Industrial buyer         Single   F   49   \n",
       "\n",
       "                    Country  trustii_id  \n",
       "0                Mozambique           1  \n",
       "1            Cayman Islands           2  \n",
       "2     Saint Kitts and Nevis           3  \n",
       "3          Marshall Islands           4  \n",
       "4         Brunei Darussalam           5  \n",
       "...                     ...         ...  \n",
       "7495               Tanzania        7496  \n",
       "7496             San Marino        7497  \n",
       "7497     Russian Federation        7498  \n",
       "7498                Jamaica        7499  \n",
       "7499                 Guyana        7500  \n",
       "\n",
       "[7500 rows x 16 columns]"
      ]
     },
     "execution_count": 124,
     "metadata": {},
     "output_type": "execute_result"
    }
   ],
   "source": [
    "data_test=pandas.read_csv(\"DataVerse - Data Challenge 2022-2023 - Test.csv\")\n",
    "data_test"
   ]
  },
  {
   "cell_type": "markdown",
   "id": "a1034b18",
   "metadata": {},
   "source": [
    "# 3- Séparation colonnes en features utiles et target"
   ]
  },
  {
   "cell_type": "markdown",
   "id": "e31727b4",
   "metadata": {},
   "source": [
    "## Pour le jeu de Train"
   ]
  },
  {
   "cell_type": "code",
   "execution_count": 125,
   "id": "b5222802",
   "metadata": {},
   "outputs": [],
   "source": [
    "#Pour éviter la copie par référence\n",
    "data_train_=data_train.copy()\n",
    "\n",
    "#target\n",
    "y_train=data_train_['Smallpox']\n",
    "\n",
    "#features\n",
    "X_train=data_train_.drop(['Patient_ID','Smallpox','Profession'],axis=1)"
   ]
  },
  {
   "cell_type": "markdown",
   "id": "242359a2",
   "metadata": {},
   "source": [
    "## Pour le jeu de Test"
   ]
  },
  {
   "cell_type": "code",
   "execution_count": 126,
   "id": "8d6a5b5f",
   "metadata": {},
   "outputs": [],
   "source": [
    "#Pour éviter la copie par référence\n",
    "data_test_=data_test.copy()\n",
    "\n",
    "#features\n",
    "X_test=data_test_.drop(['Patient_ID','trustii_id','Profession'],axis=1)"
   ]
  },
  {
   "cell_type": "markdown",
   "id": "cb076a73",
   "metadata": {},
   "source": [
    "# 4- Encodage des colonnes non numériques et mapping des données"
   ]
  },
  {
   "cell_type": "markdown",
   "id": "5e4c7371",
   "metadata": {},
   "source": [
    "## Encodage"
   ]
  },
  {
   "cell_type": "code",
   "execution_count": 127,
   "id": "1197f2d7",
   "metadata": {},
   "outputs": [],
   "source": [
    "from sklearn.preprocessing import OrdinalEncoder\n",
    "\n",
    "def encoder_Data(features):\n",
    "    ordinal_encoder = OrdinalEncoder()\n",
    "    data_cat_encoded = ordinal_encoder.fit_transform(features)\n",
    "    \n",
    "    return data_cat_encoded"
   ]
  },
  {
   "cell_type": "code",
   "execution_count": 128,
   "id": "a64377ee",
   "metadata": {},
   "outputs": [
    {
     "data": {
      "text/plain": [
       "array([[  3.,   1.,   1., ...,   1.,  43., 136.],\n",
       "       [  3.,   1.,   0., ...,   1.,  43., 238.],\n",
       "       [  3.,   1.,   0., ...,   0.,  14.,  32.],\n",
       "       ...,\n",
       "       [  1.,   0.,   1., ...,   1.,  39., 204.],\n",
       "       [  3.,   0.,   1., ...,   0.,  23., 194.],\n",
       "       [  2.,   1.,   0., ...,   0.,  16.,  52.]])"
      ]
     },
     "execution_count": 128,
     "metadata": {},
     "output_type": "execute_result"
    }
   ],
   "source": [
    "X_train=encoder_Data(X_train)\n",
    "X_train"
   ]
  },
  {
   "cell_type": "code",
   "execution_count": 129,
   "id": "fd6af1f7",
   "metadata": {},
   "outputs": [
    {
     "data": {
      "text/plain": [
       "array([[  3.,   0.,   0., ...,   1.,  16., 147.],\n",
       "       [  3.,   1.,   1., ...,   0.,  31.,  40.],\n",
       "       [  0.,   1.,   0., ...,   0.,  14., 183.],\n",
       "       ...,\n",
       "       [  2.,   1.,   1., ...,   0.,  35., 179.],\n",
       "       [  3.,   0.,   0., ...,   0.,   4., 107.],\n",
       "       [  3.,   0.,   0., ...,   0.,  30.,  91.]])"
      ]
     },
     "execution_count": 129,
     "metadata": {},
     "output_type": "execute_result"
    }
   ],
   "source": [
    "X_test=encoder_Data(X_test)\n",
    "X_test"
   ]
  },
  {
   "cell_type": "markdown",
   "id": "c375af19",
   "metadata": {},
   "source": [
    "## Mapping des Negative en 0 , Positive en 1"
   ]
  },
  {
   "cell_type": "code",
   "execution_count": 130,
   "id": "c3739a81",
   "metadata": {},
   "outputs": [
    {
     "data": {
      "text/plain": [
       "0        1\n",
       "1        1\n",
       "2        0\n",
       "3        1\n",
       "4        1\n",
       "        ..\n",
       "17495    1\n",
       "17496    0\n",
       "17497    1\n",
       "17498    1\n",
       "17499    1\n",
       "Name: Smallpox, Length: 17500, dtype: int64"
      ]
     },
     "execution_count": 130,
     "metadata": {},
     "output_type": "execute_result"
    }
   ],
   "source": [
    "# y_train=y_train.map({'Negative':0,'Positive':1})\n",
    "y_train"
   ]
  },
  {
   "cell_type": "markdown",
   "id": "6913cc17",
   "metadata": {},
   "source": [
    "# 5- Scaling"
   ]
  },
  {
   "cell_type": "markdown",
   "id": "c14c705d",
   "metadata": {},
   "source": [
    "Pour mettre toutes les features à la mm échelle, aussi bien dans le train que dans le test"
   ]
  },
  {
   "cell_type": "code",
   "execution_count": 131,
   "id": "2ca18de7",
   "metadata": {},
   "outputs": [],
   "source": [
    "from sklearn.preprocessing import StandardScaler"
   ]
  },
  {
   "cell_type": "code",
   "execution_count": 132,
   "id": "33f7ee9d",
   "metadata": {},
   "outputs": [],
   "source": [
    "scaler = StandardScaler()"
   ]
  },
  {
   "cell_type": "code",
   "execution_count": 133,
   "id": "b31cb6ff",
   "metadata": {},
   "outputs": [],
   "source": [
    "X_train = scaler.fit_transform(X_train)\n",
    "X_test = scaler.fit_transform(X_test)"
   ]
  },
  {
   "cell_type": "markdown",
   "id": "f2be6c0d",
   "metadata": {},
   "source": [
    "# 6- Spliting"
   ]
  },
  {
   "cell_type": "markdown",
   "id": "d94b1805",
   "metadata": {},
   "source": [
    "Pour partitionner notre jeu d'entrainement en train set (pour l'entrainement au vrai sens du terme) et validation set"
   ]
  },
  {
   "cell_type": "code",
   "execution_count": 134,
   "id": "868095b9",
   "metadata": {},
   "outputs": [],
   "source": [
    "X_train, X_val, y_train, y_val = train_test_split(X_train, y_train, test_size=0.2, random_state=42)"
   ]
  },
  {
   "cell_type": "markdown",
   "id": "faecc196",
   "metadata": {},
   "source": [
    "# 7- KNN"
   ]
  },
  {
   "cell_type": "code",
   "execution_count": 135,
   "id": "a211b0fc",
   "metadata": {},
   "outputs": [],
   "source": [
    "#Importation KNN\n",
    "from sklearn.neighbors import KNeighborsClassifier"
   ]
  },
  {
   "cell_type": "code",
   "execution_count": 136,
   "id": "88a90ed5",
   "metadata": {},
   "outputs": [
    {
     "data": {
      "text/plain": [
       "KNeighborsClassifier(n_neighbors=7)"
      ]
     },
     "execution_count": 136,
     "metadata": {},
     "output_type": "execute_result"
    }
   ],
   "source": [
    "# Use the KNN classifier to fit data\n",
    "classifier_knn = KNeighborsClassifier(n_neighbors=7)\n",
    "classifier_knn.fit(X_train, y_train)\n",
    "#classifier.score(X_train, y_train)"
   ]
  },
  {
   "cell_type": "code",
   "execution_count": 137,
   "id": "e0bbfac8",
   "metadata": {},
   "outputs": [
    {
     "data": {
      "text/plain": [
       "0.6488571428571429"
      ]
     },
     "execution_count": 137,
     "metadata": {},
     "output_type": "execute_result"
    }
   ],
   "source": [
    "#Score\n",
    "accuracy_score(y_val, y_predict_knn, normalize=True)"
   ]
  },
  {
   "cell_type": "code",
   "execution_count": 138,
   "id": "e8a5901d",
   "metadata": {},
   "outputs": [
    {
     "data": {
      "text/plain": [
       "array([0, 0, 1, ..., 1, 1, 1], dtype=int64)"
      ]
     },
     "execution_count": 138,
     "metadata": {},
     "output_type": "execute_result"
    }
   ],
   "source": [
    "# Predict y data with classifier: \n",
    "y_predict_knn = classifier_knn.predict(X_val)\n",
    "y_predict_knn"
   ]
  },
  {
   "cell_type": "code",
   "execution_count": 155,
   "id": "34cc71a6",
   "metadata": {},
   "outputs": [
    {
     "data": {
      "text/plain": [
       "1    2541\n",
       "0     959\n",
       "Name: 0, dtype: int64"
      ]
     },
     "execution_count": 155,
     "metadata": {},
     "output_type": "execute_result"
    }
   ],
   "source": [
    "#Number of predictions for each class\n",
    "predicts_knn = pandas.DataFrame(y_predict_knn)[0].value_counts()\n",
    "predicts_knn"
   ]
  },
  {
   "cell_type": "markdown",
   "id": "ec134553",
   "metadata": {},
   "source": [
    "# 8- SVM"
   ]
  },
  {
   "cell_type": "code",
   "execution_count": 157,
   "id": "b0ef46bd",
   "metadata": {},
   "outputs": [],
   "source": [
    "#Importation SVM\n",
    "from sklearn import svm"
   ]
  },
  {
   "cell_type": "code",
   "execution_count": 158,
   "id": "86731750",
   "metadata": {},
   "outputs": [
    {
     "data": {
      "text/plain": [
       "SVR()"
      ]
     },
     "execution_count": 158,
     "metadata": {},
     "output_type": "execute_result"
    }
   ],
   "source": [
    "#Use SVM classifier to fit data \n",
    "classifier_svm = svm.SVR()\n",
    "classifier_svm.fit(X_train, y_train)\n",
    "#classifier_.score(X_train, y_train)"
   ]
  },
  {
   "cell_type": "code",
   "execution_count": 168,
   "id": "b8a6da5c",
   "metadata": {},
   "outputs": [
    {
     "data": {
      "text/plain": [
       "array([0.58733659, 0.19950489, 0.61093135, ..., 0.32040209, 0.86750762,\n",
       "       0.92812496])"
      ]
     },
     "execution_count": 168,
     "metadata": {},
     "output_type": "execute_result"
    }
   ],
   "source": [
    "#Predictions\n",
    "y_predict_svm = classifier_svm.predict(X_val)\n",
    "y_predict_svm"
   ]
  },
  {
   "cell_type": "markdown",
   "id": "d4b2487a",
   "metadata": {},
   "source": [
    "On remarque que SVM retourne une pobabilité d'appartenance entre 0 et 1"
   ]
  },
  {
   "cell_type": "markdown",
   "id": "9fb21840",
   "metadata": {},
   "source": [
    "Pour ce faire, on doit fixer un seuil et créer un mapper qui classe les valeurs inférieures au seuil dans la première classe et celles supérieures dans la seconde."
   ]
  },
  {
   "cell_type": "code",
   "execution_count": 174,
   "id": "002162d7",
   "metadata": {},
   "outputs": [],
   "source": [
    "def map_pred(element_actuel):\n",
    "    \n",
    "    if element_actuel<0.5:\n",
    "        return 0\n",
    "    else:\n",
    "        return 1"
   ]
  },
  {
   "cell_type": "code",
   "execution_count": 175,
   "id": "fc716e9e",
   "metadata": {},
   "outputs": [
    {
     "data": {
      "text/plain": [
       "0       1\n",
       "1       0\n",
       "2       1\n",
       "3       1\n",
       "4       1\n",
       "       ..\n",
       "3495    1\n",
       "3496    1\n",
       "3497    0\n",
       "3498    1\n",
       "3499    1\n",
       "Name: 0, Length: 3500, dtype: int64"
      ]
     },
     "execution_count": 175,
     "metadata": {},
     "output_type": "execute_result"
    }
   ],
   "source": [
    "#Application du mapper\n",
    "y_predicts_svm = pandas.DataFrame(y_predict_svm)[0].map(map_pred)\n",
    "y_predicts_svm"
   ]
  },
  {
   "cell_type": "code",
   "execution_count": 176,
   "id": "e03c4e2c",
   "metadata": {},
   "outputs": [
    {
     "data": {
      "text/plain": [
       "1    2876\n",
       "0     624\n",
       "Name: 0, dtype: int64"
      ]
     },
     "execution_count": 176,
     "metadata": {},
     "output_type": "execute_result"
    }
   ],
   "source": [
    "#Number of predictions for each class\n",
    "y_predicts_svm.value_counts()"
   ]
  },
  {
   "cell_type": "code",
   "execution_count": 177,
   "id": "a37b2925",
   "metadata": {},
   "outputs": [
    {
     "data": {
      "text/plain": [
       "0.6851428571428572"
      ]
     },
     "execution_count": 177,
     "metadata": {},
     "output_type": "execute_result"
    }
   ],
   "source": [
    "#SVM Accuracy\n",
    "accuracy_score(y_val, y_predicts_svm, normalize=True)"
   ]
  },
  {
   "cell_type": "markdown",
   "id": "7db90efe",
   "metadata": {},
   "source": [
    "SVM a donc une meilleure accuracy, on la retient donc pour les prédictions sur le test"
   ]
  },
  {
   "cell_type": "markdown",
   "id": "239325e8",
   "metadata": {},
   "source": [
    "# 9- Prédictions sur le test set"
   ]
  },
  {
   "cell_type": "code",
   "execution_count": 180,
   "id": "467821d5",
   "metadata": {},
   "outputs": [],
   "source": [
    "y_predict_test = classifier_svm.predict(X_test)"
   ]
  },
  {
   "cell_type": "code",
   "execution_count": 181,
   "id": "a3e436f9",
   "metadata": {},
   "outputs": [],
   "source": [
    "predicts_test = pandas.DataFrame(y_predict)[0].map(map_pred).value_counts()"
   ]
  },
  {
   "cell_type": "markdown",
   "id": "aa874def",
   "metadata": {},
   "source": [
    "# 10- Exportation des prédictions sur le test set en csv"
   ]
  },
  {
   "cell_type": "code",
   "execution_count": 152,
   "id": "fa188970",
   "metadata": {},
   "outputs": [],
   "source": [
    "data = pandas.DataFrame({\n",
    "    \"trustii_id\" : data_test[\"trustii_id\"],\n",
    "    \"Smallpox\"   : y_predict_test\n",
    "})"
   ]
  },
  {
   "cell_type": "code",
   "execution_count": 153,
   "id": "72512561",
   "metadata": {
    "scrolled": true
   },
   "outputs": [],
   "source": [
    "data.to_csv(r'data.csv',index=True)"
   ]
  }
 ],
 "metadata": {
  "kernelspec": {
   "display_name": "Python 3 (ipykernel)",
   "language": "python",
   "name": "python3"
  },
  "language_info": {
   "codemirror_mode": {
    "name": "ipython",
    "version": 3
   },
   "file_extension": ".py",
   "mimetype": "text/x-python",
   "name": "python",
   "nbconvert_exporter": "python",
   "pygments_lexer": "ipython3",
   "version": "3.8.5"
  },
  "varInspector": {
   "cols": {
    "lenName": 16,
    "lenType": 16,
    "lenVar": 40
   },
   "kernels_config": {
    "python": {
     "delete_cmd_postfix": "",
     "delete_cmd_prefix": "del ",
     "library": "var_list.py",
     "varRefreshCmd": "print(var_dic_list())"
    },
    "r": {
     "delete_cmd_postfix": ") ",
     "delete_cmd_prefix": "rm(",
     "library": "var_list.r",
     "varRefreshCmd": "cat(var_dic_list()) "
    }
   },
   "types_to_exclude": [
    "module",
    "function",
    "builtin_function_or_method",
    "instance",
    "_Feature"
   ],
   "window_display": false
  }
 },
 "nbformat": 4,
 "nbformat_minor": 5
}
